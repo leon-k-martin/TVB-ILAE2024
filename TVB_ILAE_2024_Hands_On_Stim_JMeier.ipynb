{
 "cells": [
  {
   "cell_type": "markdown",
   "id": "0c3ff186",
   "metadata": {},
   "source": [
    "### Demo: Brain Stimulation Simulation with The Virtual Brain "
   ]
  },
  {
   "cell_type": "markdown",
   "id": "14103f09",
   "metadata": {},
   "source": [
    "> Authors: **Anaïs Halimi & Jil Meier**\n",
    "\n",
    "> Charité – Universitätsmedizin Berlin - Brain Simulation Section: **Prof. Petra Ritter**"
   ]
  },
  {
   "cell_type": "markdown",
   "id": "8aad3c99",
   "metadata": {},
   "source": [
    "### Introduction\n",
    "\n",
    "This demo introduces a `region-based simulation on TVB` with a `stimulus` targeting a cortical brain region. "
   ]
  },
  {
   "cell_type": "markdown",
   "id": "23d59955",
   "metadata": {},
   "source": [
    "### Setup"
   ]
  },
  {
   "cell_type": "code",
   "execution_count": null,
   "id": "465fd486",
   "metadata": {
    "scrolled": true
   },
   "outputs": [],
   "source": [
    "%pylab inline\n",
    "\n",
    "# install TVB locally \n",
    "# !pip install -U tvb-library\n",
    "# !pip install tvb-data\n",
    "\n",
    "# TVB functions\n",
    "from tvb.simulator.lab import *\n",
    "from tvb.basic.neotraits.api import NArray, List, Range, Final\n",
    "\n",
    "# python functions\n",
    "import os\n",
    "import numpy as np\n",
    "import scipy.io as sio\n",
    "import scipy.signal as sig\n",
    "import matplotlib.pyplot as plt\n",
    "import matplotlib\n",
    "from matplotlib.tri import Triangulation\n",
    "from mpl_toolkits.mplot3d import Axes3D"
   ]
  },
  {
   "cell_type": "markdown",
   "id": "f6b34dfe",
   "metadata": {},
   "source": [
    "### Connectivity"
   ]
  },
  {
   "cell_type": "markdown",
   "id": "59fb78e6",
   "metadata": {},
   "source": [
    "#### Load connectivity"
   ]
  },
  {
   "cell_type": "code",
   "execution_count": null,
   "id": "a39fbce1",
   "metadata": {
    "scrolled": true
   },
   "outputs": [],
   "source": [
    "# default TVB connectivity \n",
    "conn = connectivity.Connectivity.from_file() "
   ]
  },
  {
   "cell_type": "code",
   "execution_count": null,
   "id": "dad7e5c0",
   "metadata": {},
   "outputs": [],
   "source": [
    "# Visualize connectivity\n",
    "plt.figure(figsize=(4,4))\n",
    "plt.imshow(conn.weights)\n",
    "plt.title(\"Weights\")\n",
    "plt.colorbar()\n",
    "plt.show()\n",
    "\n",
    "plt.figure(figsize=(4,4))\n",
    "plt.imshow(conn.tract_lengths)\n",
    "plt.title(\"Tract lengths\")\n",
    "plt.colorbar()\n",
    "plt.show()"
   ]
  },
  {
   "cell_type": "markdown",
   "id": "84e0c39b",
   "metadata": {},
   "source": [
    "#### Brain regions in the connectivity"
   ]
  },
  {
   "cell_type": "code",
   "execution_count": null,
   "id": "5e04343b",
   "metadata": {},
   "outputs": [],
   "source": [
    "# check the regions number\n",
    "conn.region_labels.shape"
   ]
  },
  {
   "cell_type": "code",
   "execution_count": null,
   "id": "03ac9a97",
   "metadata": {},
   "outputs": [],
   "source": [
    "# check the regions list\n",
    "conn.region_labels"
   ]
  },
  {
   "cell_type": "markdown",
   "id": "a324f7f3",
   "metadata": {},
   "source": [
    "#### Choose a region"
   ]
  },
  {
   "cell_type": "code",
   "execution_count": null,
   "id": "ce06ba46",
   "metadata": {},
   "outputs": [],
   "source": [
    "# select LH primary motor cortex example 'lM1'\n",
    "conn.region_labels[50]"
   ]
  },
  {
   "cell_type": "markdown",
   "id": "5a3da87a",
   "metadata": {},
   "source": [
    "### Stimulus"
   ]
  },
  {
   "cell_type": "markdown",
   "id": "5a6564f4",
   "metadata": {},
   "source": [
    "#### Choose a stimulus weighting "
   ]
  },
  {
   "cell_type": "code",
   "execution_count": null,
   "id": "e1201462",
   "metadata": {},
   "outputs": [],
   "source": [
    "# number of regions in the connectivity\n",
    "weighting = numpy.zeros((76, ))\n",
    "\n",
    "# attribution of a stimulus intensity in the targeted region \n",
    "weighting[[50]] = 0.1          \n",
    "\n",
    "print(weighting)"
   ]
  },
  {
   "cell_type": "markdown",
   "id": "c5171449",
   "metadata": {},
   "source": [
    "#### Define the stimulus parameters"
   ]
  },
  {
   "cell_type": "code",
   "execution_count": null,
   "id": "2dd65627",
   "metadata": {},
   "outputs": [],
   "source": [
    "# Pulse Train type of stimulus: pulse train, offset with respect to the time axis\n",
    "eqn_t = equations.PulseTrain()\n",
    "\n",
    "# onset of the stimulus at 1500 ms\n",
    "eqn_t.parameters['onset'] = 1500\n",
    "\n",
    "# repetition of the stimulus every 1000 ms\n",
    "eqn_t.parameters['T'] = 1000.0 \n",
    "\n",
    "# length of the stimulus of 50 ms\n",
    "eqn_t.parameters['tau'] = 50.0 "
   ]
  },
  {
   "cell_type": "markdown",
   "id": "255a9930",
   "metadata": {},
   "source": [
    "#### Define the stimulus spatial and temporal components"
   ]
  },
  {
   "cell_type": "code",
   "execution_count": null,
   "id": "03b4ceb2",
   "metadata": {},
   "outputs": [],
   "source": [
    "stimulus = patterns.StimuliRegion(\n",
    "    temporal=eqn_t,\n",
    "    connectivity=conn,\n",
    "    weight=weighting)"
   ]
  },
  {
   "cell_type": "markdown",
   "id": "0ed7dd1e",
   "metadata": {},
   "source": [
    "#### Vizualise the stimulus"
   ]
  },
  {
   "cell_type": "code",
   "execution_count": null,
   "id": "28a48f2d",
   "metadata": {},
   "outputs": [],
   "source": [
    "# configure space and time\n",
    "stimulus.configure_space()\n",
    "stimulus.configure_time(numpy.arange(0., 4e3, 1)) \n",
    "\n",
    "# plot the repetitive pulse train stimulus targetting the region selected\n",
    "plot_pattern(stimulus)"
   ]
  },
  {
   "cell_type": "markdown",
   "id": "373f261f",
   "metadata": {},
   "source": [
    "We loaded and defined the parameters of our `connectivity` and `stimulus`.  \n",
    "\n",
    "Let's `run our simulation`now!"
   ]
  },
  {
   "cell_type": "markdown",
   "id": "c216a0a8",
   "metadata": {},
   "source": [
    "### Simulation "
   ]
  },
  {
   "cell_type": "code",
   "execution_count": null,
   "id": "d488bade",
   "metadata": {},
   "outputs": [],
   "source": [
    "sim = simulator.Simulator(\n",
    "    \n",
    "    model=models.Generic2dOscillator(a=numpy.array([0.3]), tau=numpy.array([2])), \n",
    "    # dynamic system model describing one neural mass (m=1) with two state variables (n=2) \n",
    "    \n",
    "    connectivity=conn,\n",
    "    # connectivity defined previously (here default TVB connectivity)\n",
    "    \n",
    "    coupling=coupling.Difference(a=numpy.array([7e-4])),\n",
    "    # difference coupling function between pre and post synaptic activity of the form\n",
    "    \n",
    "    integrator=integrators.HeunStochastic(dt=0.5, noise=noise.Additive(nsig=numpy.array([5e-5]))),\n",
    "    # example of a predictor-corrector method with noise addition\n",
    "    \n",
    "    monitors=(\n",
    "        monitors.TemporalAverage(period=1.0),\n",
    "    # average of raw time series for each sampling period\n",
    "        ),\n",
    "    \n",
    "    stimulus=stimulus,\n",
    "    # implementing the stimulus defined previously\n",
    "    \n",
    "    simulation_length=4e3, \n",
    "    # length of the simulation in ms\n",
    "    \n",
    ").configure()\n",
    "\n",
    "(tavg_time, tavg_data),  = sim.run()"
   ]
  },
  {
   "cell_type": "markdown",
   "id": "23e145c1",
   "metadata": {},
   "source": [
    "### Plot the results"
   ]
  },
  {
   "cell_type": "markdown",
   "id": "a55ea490",
   "metadata": {},
   "source": [
    "#### Time series plot"
   ]
  },
  {
   "cell_type": "code",
   "execution_count": null,
   "id": "85a7e832",
   "metadata": {
    "scrolled": true
   },
   "outputs": [],
   "source": [
    "# propagation of the stimulus in the cortical regions\n",
    "figure()\n",
    "\n",
    "# individual region time series superposed in black \n",
    "plot(tavg_time, tavg_data[:, 0, :, 0], 'k', alpha=0.1) \n",
    "\n",
    "# time series mean in red\n",
    "plot(tavg_time, tavg_data[:, 0, :, 0].mean(axis=1), 'r', alpha=1) \n",
    "ylabel(\"Temporal average\")\n",
    "xlabel('Time (ms)')"
   ]
  },
  {
   "cell_type": "markdown",
   "id": "88971e53",
   "metadata": {},
   "source": [
    "#### Visualize the stimulus propagation on the surface brain\n",
    "Credits to *John Griffiths* for the function to visualise the propagation on the template brain (https://nbviewer.jupyter.org/urls/s3.amazonaws.com/replicating_spiegler2016/replicating_spiegler2016__html_nb.ipynb)"
   ]
  },
  {
   "cell_type": "code",
   "execution_count": null,
   "id": "385c0117",
   "metadata": {},
   "outputs": [],
   "source": [
    "def plot_surface_mpl(vtx,tri,data=None,rm=None,reorient='tvb',view='superior',\n",
    "                     shaded=False,ax=None,figsize=(6,4), title=None,\n",
    "                     lthr=None,uthr=None, nz_thr = 1E-20,\n",
    "                     shade_kwargs = {'edgecolors': 'k', 'linewidth': 0.1,\n",
    "                                     'alpha': None, 'cmap': 'coolwarm',\n",
    "                                     'vmin': None, 'vmax': None}):                 \n",
    "  \"\"\"\n",
    "  Parameters\n",
    "  ----------\n",
    "  \n",
    "  vtx           : N vertices x 3 array of surface vertex xyz coordinates \n",
    "\n",
    "  tri           : N faces x 3 array of surface faces\n",
    "\n",
    "  data          : array of numbers to colour surface with\n",
    "                  \n",
    "  rm            : region mapping - N vertices x 1 array with (up to) N \n",
    "                  regions unique values; each element specifies which \n",
    "                  region the corresponding surface vertex is mapped to \n",
    "\n",
    "  reorient      : modify the vertex coordinate frame and/or orientation \n",
    "                  so that the same default rotations can subsequently be \n",
    "                  used for image views\n",
    "\n",
    "  view          : specify viewing angle\n",
    "\n",
    "  lthr/uthr     : lower/upper thresholds - set to zero any datapoints below / \n",
    "                  above these values\n",
    "  \n",
    "  nz_thr        : near-zero threshold - set to zero all datapoints with absolute \n",
    "                  values smaller than this number \n",
    "\n",
    "  shade_kwargs  : dictionary specifiying shading options\n",
    "                  \n",
    "  ax            : figure axis\n",
    "  \n",
    "  figsize       : figure size (ignore if ax provided)\n",
    "  \n",
    "  title         : text string to place above figure\n",
    "  \"\"\"\n",
    "    \n",
    "    \n",
    "  vtx,tri = vtx.copy(),tri.copy()\n",
    "  if data is not None: data = data.copy()\n",
    "\n",
    "        \n",
    "                                    # 1. Set the viewing angle \n",
    "  \n",
    "  if reorient == 'tvb':\n",
    "    # TVB default brain coordinates are yxz   \n",
    "    vtx = np.array([vtx[:,1],vtx[:,0],vtx[:,2]]).T.copy()\n",
    "    \n",
    "    # reflect in the x axis\n",
    "    vtx[:,0]*=-1\n",
    "    \n",
    "    # rotations for standard view options\n",
    "  if   view == 'lh_lat'    : rots =  [(0,-90),(1,90)  ]\n",
    "  elif view == 'lh_med'    : rots =  [(0,-90),(1,-90) ] \n",
    "  elif view == 'rh_lat'    : rots =  [(0,-90),(1,-90) ]\n",
    "  elif view == 'rh_med'    : rots =  [(0,-90),(1,90)  ]\n",
    "  elif view == 'superior'  : rots =   None\n",
    "  elif view == 'inferior'  : rots =   (1,180)\n",
    "  elif view == 'anterior'  : rots =   (0,-90)\n",
    "  elif view == 'posterior' : rots =  [(0, -90),(1,180)]\n",
    "  elif (type(view) == tuple) or (type(view) == list): rots = view \n",
    "                            \n",
    "    # apply rotations                           \n",
    "  if rots is None: rotmat = np.eye(3)\n",
    "  else:            rotmat = get_combined_rotation_matrix(rots)\n",
    "  vtx = np.dot(vtx,rotmat)\n",
    "\n",
    "                                    \n",
    "      \n",
    "                                    # 2. Sort out the data\n",
    "                                    \n",
    "                                    \n",
    "    # no data: plot a vector of 1s\n",
    "    # region data: create corresponding surface vector \n",
    "  if data is None: \n",
    "    data = np.ones(vtx.shape[0]) \n",
    "  elif data.shape[0] != vtx.shape[0]: \n",
    "    data = np.array([data[r] for r in rm])\n",
    "    \n",
    "    # apply thresholds\n",
    "  if uthr: data *= (data < uthr)\n",
    "  if lthr: data *= (data > lthr)\n",
    "  data *= (np.abs(data) > nz_thr)\n",
    "\n",
    "                                    \n",
    "                                    # 3. Create the surface triangulation object \n",
    "  \n",
    "  x,y,z = vtx.T\n",
    "  tx,ty,tz = vtx[tri].mean(axis=1).T\n",
    "  tr = Triangulation(x,y,tri[np.argsort(tz)])\n",
    "    \n",
    "                \n",
    "                                    # 4. Make the figure \n",
    "\n",
    "  if ax is None: fig, ax = plt.subplots(figsize=figsize)  \n",
    "  tc = ax.tripcolor(tr, np.squeeze(data), **shade_kwargs)\n",
    "                        \n",
    "  ax.set_aspect('equal')\n",
    "  ax.axis('off')\n",
    "    \n",
    "  if title is not None: ax.set_title(title)\n",
    "            \n",
    "\n",
    "def get_combined_rotation_matrix(rotations):\n",
    "  '''Return a combined rotation matrix from a dictionary of rotations around \n",
    "     the x,y,or z axes'''\n",
    "  rotmat = np.eye(3)\n",
    "    \n",
    "  if type(rotations) is tuple: rotations = [rotations] \n",
    "  for r in rotations:\n",
    "    newrot = get_rotation_matrix(r[0],r[1])\n",
    "    rotmat = np.dot(rotmat,newrot)\n",
    "  return rotmat\n",
    "\n",
    "\n",
    "def get_rotation_matrix(rotation_axis, deg):\n",
    "\n",
    "  '''Return rotation matrix in the x,y,or z plane'''\n",
    "  th = -deg * (pi/180) # convert degrees to radians\n",
    "\n",
    "  if rotation_axis == 0:\n",
    "    return np.array( [[    1,         0,         0    ],\n",
    "                      [    0,      cos(th),   -sin(th)],\n",
    "                      [    0,      sin(th),    cos(th)]])\n",
    "  elif rotation_axis ==1:\n",
    "    return np.array( [[   cos(th),    0,        sin(th)],\n",
    "                      [    0,         1,          0    ],\n",
    "                      [  -sin(th),    0,        cos(th)]])\n",
    "  elif rotation_axis ==2:\n",
    "    return np.array([[   cos(th),  -sin(th),     0    ],\n",
    "                     [    sin(th),   cos(th),     0   ],\n",
    "                     [     0,         0,          1   ]])"
   ]
  },
  {
   "cell_type": "markdown",
   "id": "3eb04e72",
   "metadata": {},
   "source": [
    "#### Mapping regions on the respective space on the surface"
   ]
  },
  {
   "cell_type": "markdown",
   "id": "899a48cb",
   "metadata": {},
   "source": [
    "The `initial stimulus` is on between [1500,1550] ms. \n",
    "\n",
    "We will plot the `evolution of the propagation of this initial stimulus on the brain surface`."
   ]
  },
  {
   "cell_type": "code",
   "execution_count": null,
   "id": "921791f7",
   "metadata": {},
   "outputs": [],
   "source": [
    "import copy\n",
    "ctx = cortex.Cortex.from_file()\n",
    "# object Cortex: mesh surface defining 2D representation of convoluted cortical surface embedded in 3D space \n",
    "\n",
    "ctx.region_mapping_data.connectivity=conn\n",
    "\n",
    "vtx,tri,rm = ctx.vertices,ctx.triangles,ctx.region_mapping\n",
    "# vtx: vertices\n",
    "# tri: triangles\n",
    "# rm: region mapping\n",
    "\n",
    "fig, ax = plt.subplots(ncols=7, nrows=2,figsize=(15,3))\n",
    "#cmap = cm.Blues\n",
    "cmap = copy.copy(mpl.cm.get_cmap(\"Blues\"))\n",
    "cmap.set_under(color='w')\n",
    "kws = {'edgecolors': 'k', 'vmin': 0.1, 'cmap': cmap, \n",
    "       'vmax': 0.6, 'alpha': None, 'linewidth': 0.01}\n",
    "\n",
    "ts = [1495, 1505, 1515, 1525, 1535, 1545, 1555] \n",
    "\n",
    "# time states to plot \n",
    "\n",
    "for t_it,t in enumerate(ts):\n",
    "\n",
    "    dat = np.absolute(tavg_data[t, 0, :, 0])\n",
    "        \n",
    "    plot_surface_mpl(vtx=vtx, tri=tri,data=dat,rm=rm,ax=ax[0][t_it],\n",
    "                   shade_kwargs=kws,\n",
    "                   view='lh_lat')   # lateral view\n",
    "    \n",
    "    plot_surface_mpl(vtx=vtx,tri=tri,data=dat,rm=rm,ax=ax[1][t_it],\n",
    "                   shade_kwargs=kws,\n",
    "                   view='superior') # above view\n",
    "    \n",
    "    \n",
    "    ax[0][t_it].set_title('t=%1.1fms' %t)"
   ]
  },
  {
   "cell_type": "markdown",
   "id": "2bf6f94c",
   "metadata": {},
   "source": [
    "### Conclusion\n",
    "\n",
    "The left/right `primary motor cortex` region targeted corresponds well to the `area with the highest activity impacted by the initial stimulus` (dark blue).\n",
    "\n",
    "The `stimulus activity propagation` to other areas (premotor areas, sensory areas) is well visible.\n",
    "\n",
    "We succeeded to do a brain stimulation simulation with The Virtual Brain!"
   ]
  },
  {
   "cell_type": "code",
   "execution_count": null,
   "id": "9fa22fca",
   "metadata": {},
   "outputs": [],
   "source": []
  }
 ],
 "metadata": {
  "kernelspec": {
   "display_name": "Python 3 (ipykernel)",
   "language": "python",
   "name": "python3"
  },
  "language_info": {
   "codemirror_mode": {
    "name": "ipython",
    "version": 3
   },
   "file_extension": ".py",
   "mimetype": "text/x-python",
   "name": "python",
   "nbconvert_exporter": "python",
   "pygments_lexer": "ipython3",
   "version": "3.9.18"
  }
 },
 "nbformat": 4,
 "nbformat_minor": 5
}
