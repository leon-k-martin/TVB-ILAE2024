{
 "cells": [
  {
   "cell_type": "markdown",
   "metadata": {},
   "source": [
    "# Simulating resting-state network dynamics with The Virtual Brain\n",
    "## Introduction\n",
    "\n",
    "Fluctuations in brain activity in non-task conditions are now a well-established phenomena in the literature. These fluctuations are not random but shown to exhibit spatial patterns, referred to as resting state networks. Despite being readily identifiable during rest, these networks are related to specific functions and on the other hand abnormalities in such RSNs have been associated with pathology.\n",
    "\n",
    "In the following, we will demonstrate some starting points for modeling resting state networks in TVB, using the default data set."
   ]
  },
  {
   "cell_type": "code",
   "execution_count": null,
   "metadata": {},
   "outputs": [],
   "source": [
    "import time\n",
    "import matplotlib.pyplot as plt\n",
    "import numpy as np\n",
    "from scipy import stats\n",
    "from sklearn.decomposition import FastICA\n",
    "from tvb.basic.logger.builder import get_logger\n",
    "from tvb.datatypes.connectivity import Connectivity\n",
    "from tvb.simulator import coupling, integrators, models, monitors, noise\n",
    "\n",
    "import utils\n",
    "\n",
    "LOG = get_logger(\"demo\")"
   ]
  },
  {
   "cell_type": "markdown",
   "metadata": {},
   "source": [
    "## Setting up the simulation\n",
    "\n",
    "In the following, we'll use a basic region level simulation, with the generic oscillator set in an excitable regime, linear coupling with low strength, a stochastic integrator with low noise and a temporal average monitor at 200 Hz.\n",
    "\n",
    "These settings are a good starting point for modeling resting state patterns because no particular factor dominates the dynamics and a balance between the structural connectivity, moderate intrinsic excitability and noise comes into play.\n",
    "\n",
    "### The TVB Simulator Object\n",
    "- model: Neural Mass Model defining local neural dynamics\n",
    "- connectivity: Structural Connectivity defining the network\n",
    "- coupling: Coupling function defining how coupling is done\n",
    "- integrator: Integrator defining how integration is done\n",
    "- monitors: Temporal Average Monitor to log the data\n",
    "  "
   ]
  },
  {
   "cell_type": "code",
   "execution_count": null,
   "metadata": {},
   "outputs": [],
   "source": [
    "from tvb.simulator.simulator import Simulator\n",
    "\n",
    "\n",
    "def run_sim(conn, cs, D, cv=3.0, dt=0.5, simlen=1e3):\n",
    "    sim = Simulator(\n",
    "        model=models.Generic2dOscillator(a=np.array([0.0])),\n",
    "        connectivity=conn,\n",
    "        coupling=coupling.Linear(a=np.array([cs])),\n",
    "        integrator=integrators.HeunStochastic(\n",
    "            dt=dt, noise=noise.Additive(nsig=np.array([D]))\n",
    "        ),\n",
    "        monitors=(monitors.TemporalAverage(period=5.0),),  # 200 Hz\n",
    "    )\n",
    "    sim.configure()\n",
    "    ((t, y),) = sim.run(simulation_length=simlen)\n",
    "    return t, y[:, 0, :, 0]\n",
    "\n",
    "\n",
    "conn = Connectivity.from_file()"
   ]
  },
  {
   "cell_type": "markdown",
   "metadata": {},
   "source": [
    "One of the common features of simulations is an initial transient, so we'll perform a one minute simulation, and as soon as the time series have been generated, we check that the transient has decayed:"
   ]
  },
  {
   "cell_type": "code",
   "execution_count": null,
   "metadata": {},
   "outputs": [],
   "source": [
    "tic = time.time()\n",
    "t, y = run_sim(conn, cs=6e-2, D=5e-4, simlen=1 * 60e3)\n",
    "\"simulation required %0.3f seconds.\" % (time.time() - tic,)"
   ]
  },
  {
   "cell_type": "markdown",
   "metadata": {},
   "source": [
    "# Functional Connectivity\n",
    "\n",
    "Next, to quickly assess the presence of a network structure in the time series, we window the time series into 1 second non overlapping windows, obtain per-window correlation matrices"
   ]
  },
  {
   "cell_type": "code",
   "execution_count": null,
   "metadata": {},
   "outputs": [],
   "source": [
    "def calculate_fc(t, y):\n",
    "    cs = []\n",
    "    for i in range(int(t[-1] / 1e3)):\n",
    "        cs.append(np.corrcoef(y[(t > (i * 1e3)) * (t < (1e3 * (i + 1)))].T))\n",
    "    cs = np.array(cs)\n",
    "    return cs\n",
    "\n",
    "\n",
    "def ttest(cs):\n",
    "    cs_z = np.arctanh(cs)\n",
    "    for i in range(cs.shape[1]):\n",
    "        cs_z[:, i, i] = 0.0\n",
    "    _, p = stats.ttest_1samp(cs, 0.0)\n",
    "    return p"
   ]
  },
  {
   "cell_type": "markdown",
   "metadata": {},
   "source": [
    "The strength of correlation can be assessed statistically by Fisher Z transforming the coefficients and applying a t-test,"
   ]
  },
  {
   "cell_type": "code",
   "execution_count": null,
   "metadata": {},
   "outputs": [],
   "source": [
    "cs = calculate_fc(t, y)\n",
    "p = ttest(cs)"
   ]
  },
  {
   "cell_type": "markdown",
   "metadata": {},
   "source": [
    "Which we then visualize the structural connectivity (left) and functional connectivity (right) as an adjacency matrices applying a threshold on significance:"
   ]
  },
  {
   "cell_type": "code",
   "execution_count": null,
   "metadata": {},
   "outputs": [],
   "source": [
    "fig, axs = plt.subplots(ncols=4, figsize=(12, 4))\n",
    "\n",
    "# First subplot: Connectivity weights\n",
    "im0 = axs[0].imshow(conn.weights, cmap=\"inferno\")\n",
    "axs[0].set_title(\"Connectivity Weights\")\n",
    "fig.colorbar(im0, ax=axs[0], shrink=0.5)\n",
    "\n",
    "# Second subplot: Correlation Coefficient Matrix\n",
    "im1 = axs[1].imshow(np.corrcoef(y[1000:], rowvar=False), cmap=\"inferno\")\n",
    "axs[1].set_title(\"Simulated FC\")\n",
    "fig.colorbar(im1, ax=axs[1], shrink=0.5)\n",
    "\n",
    "# Third subplot: P-values\n",
    "im2 = axs[2].imshow(p * (p < 0.05), cmap=\"inferno\")\n",
    "axs[2].set_title(\"P-values\")\n",
    "fig.colorbar(im2, ax=axs[2], shrink=0.5)\n",
    "\n",
    "# Overlay: Log10 of P-values (p < 0.05)\n",
    "im3 = axs[3].imshow(np.log10(p) * (p < 0.05), cmap=\"inferno\")\n",
    "axs[3].set_title(\"Log10 P-values (p < 0.05)\")\n",
    "fig.colorbar(im3, ax=axs[3], shrink=0.5)\n",
    "\n",
    "\n",
    "plt.show()"
   ]
  },
  {
   "cell_type": "markdown",
   "metadata": {},
   "source": [
    "We can see there are significant deviations in the FC from the SC which are especially prominent in the interhemispheric FC, where interactions are found despite limited interhemispheric SC.\n",
    "\n",
    "We can then ask what degree of similarity there is between the average functional connectivity and the structural connectivity, and how it varies over time:"
   ]
  },
  {
   "cell_type": "code",
   "execution_count": null,
   "metadata": {},
   "outputs": [],
   "source": [
    "plt.figure()\n",
    "plt.plot(\n",
    "    np.r_[1 : len(cs) + 1],\n",
    "    [np.corrcoef(cs_i.ravel(), conn.weights.ravel())[0, 1] for cs_i in cs],\n",
    ")\n",
    "plt.ylim([0, 0.5])\n",
    "plt.ylabel(\"FC-SC correlation\")\n",
    "plt.xlabel(\"Time (s)\")\n",
    "plt.show()"
   ]
  },
  {
   "cell_type": "markdown",
   "metadata": {},
   "source": [
    "# Seed-region correlation maps\n",
    "\n",
    "A common visualization of FC specific to a given is to pull out its row of the FC matrix and plot a colormap on the anatomy. We can do this will the simulated functional connectivity to identify which regions are highly coordinated with the seed region."
   ]
  },
  {
   "cell_type": "code",
   "execution_count": null,
   "metadata": {},
   "outputs": [],
   "source": [
    "from tvb.datatypes import cortex\n",
    "\n",
    "ctx = cortex.Cortex.from_file()\n",
    "ctx.region_mapping_data.connectivity = conn\n",
    "rm = ctx.region_mapping\n",
    "\n",
    "\n",
    "def plot_roi_corr_map(reg_name):\n",
    "    roi = list(conn.ordered_labels).index(reg_name)\n",
    "    cs_m = cs[2:].mean(axis=0)\n",
    "    utils.multiview(\n",
    "        cs_m[roi][rm], cortex=ctx, shaded=False, suptitle=reg_name, figsize=(10, 5)\n",
    "    )"
   ]
  },
  {
   "cell_type": "markdown",
   "metadata": {},
   "source": [
    "As a few examples of such maps, seeding in the left motor cortex, right ventrolateral prefront cortex, and right superior parietal cortex:"
   ]
  },
  {
   "cell_type": "code",
   "execution_count": null,
   "metadata": {},
   "outputs": [],
   "source": [
    "for reg in \"lM1 rPFCVL rPCS\".split():\n",
    "    plot_roi_corr_map(reg)"
   ]
  },
  {
   "cell_type": "markdown",
   "metadata": {},
   "source": [
    "Seed-region maps are useful when one has a prior about which regions are implicated for a given network."
   ]
  },
  {
   "cell_type": "markdown",
   "metadata": {},
   "source": [
    "# ICA\n",
    "\n",
    "Another common exploratory tool in resting state data analysis, where the implicated regions or networks are not known a priori, is independent component analysis, which extracts components with unique or independent statistical properties.\n",
    "\n",
    "For exapmle, we can perform an ICA keeping 5 components the above simulated data,"
   ]
  },
  {
   "cell_type": "code",
   "execution_count": null,
   "metadata": {},
   "outputs": [],
   "source": [
    "ica = FastICA(n_components=5, max_iter=250)\n",
    "ica.fit(y[t > 2e3])"
   ]
  },
  {
   "cell_type": "markdown",
   "metadata": {},
   "source": [
    "And then visualize the different components"
   ]
  },
  {
   "cell_type": "code",
   "execution_count": null,
   "metadata": {},
   "outputs": [],
   "source": [
    "for i, comp in enumerate(ica.components_[:4]):\n",
    "    utils.multiview(\n",
    "        comp[rm], cortex=ctx, shaded=False, suptitle=\"ICA %d\" % (i,), figsize=(10, 5)\n",
    "    )"
   ]
  },
  {
   "cell_type": "markdown",
   "metadata": {},
   "source": [
    "These components are not selected 'by hand', but represent independent subnetworks during the simulated resting state activity.\n",
    "\n",
    "Finally, we point out, that commonly ICA analyses of fMRI are done at a group level to identify spatial patterns which are reproducible across subjects, whereas in this application to this simulation, spatial components may reflect as much non-robust, spontaneous fluctuations of the network passing through various state as the dominant rest state networks identified in human rest state."
   ]
  },
  {
   "cell_type": "markdown",
   "metadata": {},
   "source": [
    "# Further exploration\n",
    "\n",
    "These results are starting point, from which you can base you simulations, going in directions such as\n",
    "\n",
    "- Perform a parameter sweep to identify regions of improved FC-SC correlation\n",
    "- Introduce a subject specific structural connectivity and compare with subject specific functional connectivity\n",
    "- Threshold the calculated functional connectivities and apply graph theoretic measures\n",
    "\n",
    "We hope this has been a useful tutorial and welcome any comments or questions on our mailing list (https://groups.google.com/forum/#!forum/tvb-users)."
   ]
  },
  {
   "cell_type": "markdown",
   "metadata": {
    "collapsed": true
   },
   "source": [
    "# References\n",
    "\n",
    "- [Damoiseaux, J. S., Rombouts, S. A. R. B., Barkhof, F., Scheltens, P., Stam, C. J., Smith, S. M., & Beckmann, C. F. (2006). Consistent resting-state networks across healthy subjects. Proceedings of the national academy of sciences, 103(37), 13848-13853.](http://www.pnas.org/content/103/37/13848.full)\n",
    "- [Mantini, D., Perrucci, M. G., Del Gratta, C., Romani, G. L., & Corbetta, M. (2007). Electrophysiological signatures of resting state networks in the human brain. Proceedings of the National Academy of Sciences, 104(32), 13170-13175](https://www.pnas.org/content/104/32/13170.full)\n",
    "- [Ghosh, A., Rho, Y., McIntosh, A. R., Kötter, R., & Jirsa, V. K. (2008). Noise during rest enables the exploration of the brain's dynamic repertoire. PLoS Comput Biol, 4(10), e1000196.](http://journals.plos.org/ploscompbiol/article?id=10.1371/journal.pcbi.1000196)\n",
    "- [Honey, C. J., Sporns, O., Cammoun, L., Gigandet, X., Thiran, J. P., Meuli, R., & Hagmann, P. (2009). Predicting human resting-state functional connectivity from structural connectivity. Proceedings of the National Academy of Sciences, 106(6), 2035-2040.](https://www.pnas.org/content/106/6/2035.full)\n",
    "- [Deco, G., & Jirsa, V. K. (2012). Ongoing cortical activity at rest: criticality, multistability, and ghost attractors. The Journal of Neuroscience, 32(10), 3366-3375.](www.jneurosci.org/content/32/10/3366.short)\n",
    "- [Hansen, E. C., Battaglia, D., Spiegler, A., Deco, G., & Jirsa, V. K. (2015). Functional connectivity dynamics: modeling the switching behavior of the resting state. Neuroimage, 105, 525-535.](http://www.sciencedirect.com/science/article/pii/S1053811914009033)"
   ]
  },
  {
   "cell_type": "code",
   "execution_count": null,
   "metadata": {},
   "outputs": [],
   "source": []
  }
 ],
 "metadata": {
  "kernelspec": {
   "display_name": "Python 3",
   "language": "python",
   "name": "python3"
  },
  "language_info": {
   "codemirror_mode": {
    "name": "ipython",
    "version": 3
   },
   "file_extension": ".py",
   "mimetype": "text/x-python",
   "name": "python",
   "nbconvert_exporter": "python",
   "pygments_lexer": "ipython3",
   "version": "3.12.2"
  }
 },
 "nbformat": 4,
 "nbformat_minor": 1
}
